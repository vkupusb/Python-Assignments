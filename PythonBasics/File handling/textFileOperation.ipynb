{
 "cells": [
  {
   "cell_type": "code",
   "execution_count": 1,
   "metadata": {},
   "outputs": [
    {
     "name": "stdout",
     "output_type": "stream",
     "text": [
      "Hello All,\n",
      "\n",
      "These Udemy courses will not only teach but make you fall in love with Data Science And Generative AI. \n",
      "I have received more than 29k+ reviews with 4.7 average ratings out of 5 and 62 million + minutes watch time.\n",
      " Try it out you will definitely not regret it To Learn AI technically checkout my udemy courses\n"
     ]
    }
   ],
   "source": [
    "with open(\"sample.txt\") as file:\n",
    "    content =  file.read()\n",
    "    print(content)"
   ]
  },
  {
   "cell_type": "code",
   "execution_count": 7,
   "metadata": {},
   "outputs": [
    {
     "name": "stdout",
     "output_type": "stream",
     "text": [
      "Hello worldWelcome to Pune I don't know I will be part of Tata Technolgies or not\n"
     ]
    }
   ],
   "source": [
    "with open('sample.txt','r') as file:\n",
    "    for line in file:\n",
    "        print(line.strip())"
   ]
  },
  {
   "cell_type": "code",
   "execution_count": 4,
   "metadata": {},
   "outputs": [],
   "source": [
    "with open('sample.txt','w') as file:\n",
    "    file.write(\"Hello world\")\n",
    "    file.write('Welcome to Pune')"
   ]
  },
  {
   "cell_type": "code",
   "execution_count": 6,
   "metadata": {},
   "outputs": [],
   "source": [
    "with open('sample.txt','a') as file:\n",
    "    file.write(\" I don't know I will be part of Tata Technolgies or not\")"
   ]
  },
  {
   "cell_type": "code",
   "execution_count": 12,
   "metadata": {},
   "outputs": [],
   "source": [
    "data =b'\\x001\\x002\\x003\\x004'\n",
    "with open('sample.txt','wb') as file:\n",
    "    file.write(data)"
   ]
  },
  {
   "cell_type": "code",
   "execution_count": 13,
   "metadata": {},
   "outputs": [
    {
     "name": "stdout",
     "output_type": "stream",
     "text": [
      "b'\\x001\\x002\\x003\\x004'\n"
     ]
    }
   ],
   "source": [
    "with open('sample.txt','rb') as file:\n",
    "    content = file.read()\n",
    "    print(content)"
   ]
  },
  {
   "cell_type": "code",
   "execution_count": null,
   "metadata": {},
   "outputs": [],
   "source": []
  },
  {
   "cell_type": "code",
   "execution_count": null,
   "metadata": {},
   "outputs": [],
   "source": []
  }
 ],
 "metadata": {
  "kernelspec": {
   "display_name": "Python 3",
   "language": "python",
   "name": "python3"
  },
  "language_info": {
   "codemirror_mode": {
    "name": "ipython",
    "version": 3
   },
   "file_extension": ".py",
   "mimetype": "text/x-python",
   "name": "python",
   "nbconvert_exporter": "python",
   "pygments_lexer": "ipython3",
   "version": "3.12.0"
  }
 },
 "nbformat": 4,
 "nbformat_minor": 2
}
